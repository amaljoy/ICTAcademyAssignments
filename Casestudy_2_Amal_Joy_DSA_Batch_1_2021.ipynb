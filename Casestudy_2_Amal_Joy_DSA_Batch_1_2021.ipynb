{
 "cells": [
  {
   "cell_type": "markdown",
   "id": "aae94788",
   "metadata": {},
   "source": [
    "# Initial setup"
   ]
  },
  {
   "cell_type": "code",
   "execution_count": 1,
   "id": "295d1a76",
   "metadata": {},
   "outputs": [],
   "source": [
    "import pandas as pd\n",
    "import numpy as np\n",
    "import matplotlib.pyplot as plt\n",
    "import seaborn as sns"
   ]
  },
  {
   "cell_type": "markdown",
   "id": "9d05fe9c",
   "metadata": {},
   "source": [
    "# Reading Dataset"
   ]
  },
  {
   "cell_type": "code",
   "execution_count": 2,
   "id": "8da5e36e",
   "metadata": {},
   "outputs": [],
   "source": [
    "data=pd.read_csv(\"D:\\Data Science and Analytics\\CaseStudy 2\\StudentsPerformance.csv\")"
   ]
  },
  {
   "cell_type": "markdown",
   "id": "84c5d712",
   "metadata": {},
   "source": [
    "# Displaying Data"
   ]
  },
  {
   "cell_type": "code",
   "execution_count": 3,
   "id": "aaef507f",
   "metadata": {},
   "outputs": [
    {
     "data": {
      "text/html": [
       "<div>\n",
       "<style scoped>\n",
       "    .dataframe tbody tr th:only-of-type {\n",
       "        vertical-align: middle;\n",
       "    }\n",
       "\n",
       "    .dataframe tbody tr th {\n",
       "        vertical-align: top;\n",
       "    }\n",
       "\n",
       "    .dataframe thead th {\n",
       "        text-align: right;\n",
       "    }\n",
       "</style>\n",
       "<table border=\"1\" class=\"dataframe\">\n",
       "  <thead>\n",
       "    <tr style=\"text-align: right;\">\n",
       "      <th></th>\n",
       "      <th>gender</th>\n",
       "      <th>race/ethnicity</th>\n",
       "      <th>parental level of education</th>\n",
       "      <th>lunch</th>\n",
       "      <th>test preparation course</th>\n",
       "      <th>math score</th>\n",
       "      <th>reading score</th>\n",
       "      <th>writing score</th>\n",
       "    </tr>\n",
       "  </thead>\n",
       "  <tbody>\n",
       "    <tr>\n",
       "      <th>0</th>\n",
       "      <td>female</td>\n",
       "      <td>group C</td>\n",
       "      <td>some high school</td>\n",
       "      <td>free/reduced</td>\n",
       "      <td>none</td>\n",
       "      <td>0</td>\n",
       "      <td>17</td>\n",
       "      <td>10</td>\n",
       "    </tr>\n",
       "    <tr>\n",
       "      <th>1</th>\n",
       "      <td>female</td>\n",
       "      <td>group B</td>\n",
       "      <td>high school</td>\n",
       "      <td>free/reduced</td>\n",
       "      <td>none</td>\n",
       "      <td>8</td>\n",
       "      <td>24</td>\n",
       "      <td>23</td>\n",
       "    </tr>\n",
       "    <tr>\n",
       "      <th>2</th>\n",
       "      <td>female</td>\n",
       "      <td>group B</td>\n",
       "      <td>some high school</td>\n",
       "      <td>free/reduced</td>\n",
       "      <td>none</td>\n",
       "      <td>18</td>\n",
       "      <td>32</td>\n",
       "      <td>28</td>\n",
       "    </tr>\n",
       "    <tr>\n",
       "      <th>3</th>\n",
       "      <td>female</td>\n",
       "      <td>group B</td>\n",
       "      <td>some college</td>\n",
       "      <td>standard</td>\n",
       "      <td>none</td>\n",
       "      <td>11</td>\n",
       "      <td>38</td>\n",
       "      <td>32</td>\n",
       "    </tr>\n",
       "    <tr>\n",
       "      <th>4</th>\n",
       "      <td>female</td>\n",
       "      <td>group C</td>\n",
       "      <td>some college</td>\n",
       "      <td>free/reduced</td>\n",
       "      <td>none</td>\n",
       "      <td>22</td>\n",
       "      <td>39</td>\n",
       "      <td>33</td>\n",
       "    </tr>\n",
       "    <tr>\n",
       "      <th>...</th>\n",
       "      <td>...</td>\n",
       "      <td>...</td>\n",
       "      <td>...</td>\n",
       "      <td>...</td>\n",
       "      <td>...</td>\n",
       "      <td>...</td>\n",
       "      <td>...</td>\n",
       "      <td>...</td>\n",
       "    </tr>\n",
       "    <tr>\n",
       "      <th>995</th>\n",
       "      <td>male</td>\n",
       "      <td>group E</td>\n",
       "      <td>some college</td>\n",
       "      <td>standard</td>\n",
       "      <td>completed</td>\n",
       "      <td>99</td>\n",
       "      <td>87</td>\n",
       "      <td>81</td>\n",
       "    </tr>\n",
       "    <tr>\n",
       "      <th>996</th>\n",
       "      <td>male</td>\n",
       "      <td>group A</td>\n",
       "      <td>some college</td>\n",
       "      <td>standard</td>\n",
       "      <td>completed</td>\n",
       "      <td>100</td>\n",
       "      <td>96</td>\n",
       "      <td>86</td>\n",
       "    </tr>\n",
       "    <tr>\n",
       "      <th>997</th>\n",
       "      <td>male</td>\n",
       "      <td>group D</td>\n",
       "      <td>some college</td>\n",
       "      <td>standard</td>\n",
       "      <td>completed</td>\n",
       "      <td>100</td>\n",
       "      <td>97</td>\n",
       "      <td>99</td>\n",
       "    </tr>\n",
       "    <tr>\n",
       "      <th>998</th>\n",
       "      <td>male</td>\n",
       "      <td>group E</td>\n",
       "      <td>associate's degree</td>\n",
       "      <td>free/reduced</td>\n",
       "      <td>completed</td>\n",
       "      <td>100</td>\n",
       "      <td>100</td>\n",
       "      <td>93</td>\n",
       "    </tr>\n",
       "    <tr>\n",
       "      <th>999</th>\n",
       "      <td>male</td>\n",
       "      <td>group E</td>\n",
       "      <td>bachelor's degree</td>\n",
       "      <td>standard</td>\n",
       "      <td>completed</td>\n",
       "      <td>100</td>\n",
       "      <td>100</td>\n",
       "      <td>100</td>\n",
       "    </tr>\n",
       "  </tbody>\n",
       "</table>\n",
       "<p>1000 rows × 8 columns</p>\n",
       "</div>"
      ],
      "text/plain": [
       "     gender race/ethnicity parental level of education         lunch  \\\n",
       "0    female        group C            some high school  free/reduced   \n",
       "1    female        group B                 high school  free/reduced   \n",
       "2    female        group B            some high school  free/reduced   \n",
       "3    female        group B                some college      standard   \n",
       "4    female        group C                some college  free/reduced   \n",
       "..      ...            ...                         ...           ...   \n",
       "995    male        group E                some college      standard   \n",
       "996    male        group A                some college      standard   \n",
       "997    male        group D                some college      standard   \n",
       "998    male        group E          associate's degree  free/reduced   \n",
       "999    male        group E           bachelor's degree      standard   \n",
       "\n",
       "    test preparation course  math score  reading score  writing score  \n",
       "0                      none           0             17             10  \n",
       "1                      none           8             24             23  \n",
       "2                      none          18             32             28  \n",
       "3                      none          11             38             32  \n",
       "4                      none          22             39             33  \n",
       "..                      ...         ...            ...            ...  \n",
       "995               completed          99             87             81  \n",
       "996               completed         100             96             86  \n",
       "997               completed         100             97             99  \n",
       "998               completed         100            100             93  \n",
       "999               completed         100            100            100  \n",
       "\n",
       "[1000 rows x 8 columns]"
      ]
     },
     "execution_count": 3,
     "metadata": {},
     "output_type": "execute_result"
    }
   ],
   "source": [
    "data"
   ]
  },
  {
   "cell_type": "markdown",
   "id": "d1f4b4bc",
   "metadata": {},
   "source": [
    "# 1. Find out how many males and females participated in the test."
   ]
  },
  {
   "cell_type": "code",
   "execution_count": 4,
   "id": "d6425ee1",
   "metadata": {},
   "outputs": [
    {
     "data": {
      "text/plain": [
       "array(['female', 'male'], dtype=object)"
      ]
     },
     "execution_count": 4,
     "metadata": {},
     "output_type": "execute_result"
    }
   ],
   "source": [
    "#1-Find if there is any error that might have occured while preparing data.\n",
    "# We can know it by checking if there are any string values other than \"female\"or\"male\"\n",
    "\n",
    "data[\"gender\"].unique()\n",
    "\n",
    "#From below result we can see that there are no other values"
   ]
  },
  {
   "cell_type": "code",
   "execution_count": 5,
   "id": "f38600b2",
   "metadata": {},
   "outputs": [
    {
     "name": "stdout",
     "output_type": "stream",
     "text": [
      "Number of males participated =  482\n",
      "Number of females participated =  518\n"
     ]
    }
   ],
   "source": [
    "#2-Counting number of males and females participated\n",
    "maleCount=len(data[data[\"gender\"]==\"male\"])\n",
    "femaleCount=len(data[data[\"gender\"]==\"female\"])\n",
    "print(\"Number of males participated = \",maleCount)\n",
    "print(\"Number of females participated = \",femaleCount)"
   ]
  },
  {
   "cell_type": "code",
   "execution_count": 6,
   "id": "4b15d19b",
   "metadata": {},
   "outputs": [
    {
     "data": {
      "image/png": "[encoded data removed]",
      "text/plain": [
       "<Figure size 504x504 with 1 Axes>"
      ]
     },
     "metadata": {
      "needs_background": "light"
     },
     "output_type": "display_data"
    }
   ],
   "source": [
    "#Plotting Graph\n",
    "fig, ax = plt.subplots(figsize=(7,7))\n",
    "plt.ylim(0, 600)\n",
    "plt.xlabel(\"xlabel\",fontsize=15)\n",
    "plt.ylabel(\"ylabel\",fontsize=15)\n",
    "graph=sns.countplot(x=data[\"gender\"])\n",
    "graph.set_title(\"Male Vs Female Participants (Count)\",fontsize=20,pad=15)\n",
    "graph.set(xlabel=\"Gender\", ylabel=\"Count\")\n",
    "\n",
    "for p in graph.patches:\n",
    "        graph.annotate('{}'.format(p.get_height()), (p.get_x()+0.35, p.get_height()+10))"
   ]
  },
  {
   "cell_type": "markdown",
   "id": "93f45ff0",
   "metadata": {},
   "source": [
    "## <span style=\"color:green\">INSIGHT</span>\n",
    "### <span style=\"color:red\">• Females participated more than Males by a count of 36</span>"
   ]
  },
  {
   "cell_type": "code",
   "execution_count": null,
   "id": "23630dbb",
   "metadata": {},
   "outputs": [],
   "source": []
  },
  {
   "cell_type": "markdown",
   "id": "ee874724",
   "metadata": {},
   "source": [
    "# 2. What do you think about the students' parental level of education?"
   ]
  },
  {
   "cell_type": "code",
   "execution_count": 7,
   "id": "e6ac630a",
   "metadata": {},
   "outputs": [
    {
     "data": {
      "image/png": "[encoded data removed]",
      "text/plain": [
       "<Figure size 864x504 with 1 Axes>"
      ]
     },
     "metadata": {
      "needs_background": "light"
     },
     "output_type": "display_data"
    }
   ],
   "source": [
    "#Ploting graph for better understanding\n",
    "\n",
    "fig, ax = plt.subplots(figsize=(12,7))\n",
    "plt.ylim(0, 350)\n",
    "plt.xlabel(\"xlabel\",fontsize=15)\n",
    "plt.ylabel(\"ylabel\",fontsize=15)\n",
    "ax.yaxis.labelpad = 25\n",
    "ax.xaxis.labelpad = 25\n",
    "graph=sns.countplot(x=data[\"parental level of education\"])\n",
    "graph.set_title(\"Parental level of education of participants\",fontsize=20,pad=15)\n",
    "graph.set(xlabel=\"Educational Level\", ylabel=\"Count\")\n",
    "for p in graph.patches:\n",
    "        graph.annotate('{}'.format(p.get_height()), (p.get_x()+0.35, p.get_height()+10))"
   ]
  },
  {
   "cell_type": "markdown",
   "id": "2d5252c7",
   "metadata": {},
   "source": [
    "\n",
    "## <span style=\"color:green\">INSIGHTS</span>\n",
    "### <span style=\"color:red\">• Parents of majority test participants' parents have Associate degree or lower qualification.</span>\n",
    "### <span style=\"color:red\">• Very few participants have parents' with master degree</span>"
   ]
  },
  {
   "cell_type": "markdown",
   "id": "87bbade4",
   "metadata": {},
   "source": [
    "# 3. Who scores the most on average for math, reading and writing based on\n",
    "●Gender\n",
    "●Test preparation course"
   ]
  },
  {
   "cell_type": "markdown",
   "id": "9b97ae11",
   "metadata": {},
   "source": [
    "### Gender"
   ]
  },
  {
   "cell_type": "code",
   "execution_count": 8,
   "id": "53928dea",
   "metadata": {},
   "outputs": [
    {
     "name": "stdout",
     "output_type": "stream",
     "text": [
      "Mean score values of MALE participants are:\n",
      " math score       68.821577\n",
      "reading score    65.545643\n",
      "writing score    63.446058\n",
      "dtype: float64 \n",
      "\n",
      "Mean score values of FEMALE participants are:\n",
      " math score       63.376448\n",
      "reading score    72.590734\n",
      "writing score    72.467181\n",
      "dtype: float64\n"
     ]
    }
   ],
   "source": [
    "#On basis of Gender\n",
    "dataGender=data[[\"gender\",\"math score\",\"reading score\",\"writing score\"]]\n",
    "\n",
    "dataMale=dataGender[dataGender[\"gender\"]==\"male\"]\n",
    "dataFemale=dataGender[dataGender[\"gender\"]==\"female\"]\n",
    "\n",
    "print(\"Mean score values of MALE participants are:\\n\",dataMale.mean(),\"\\n\")\n",
    "print(\"Mean score values of FEMALE participants are:\\n\",dataFemale.mean())\n"
   ]
  },
  {
   "cell_type": "code",
   "execution_count": 9,
   "id": "68c2788d",
   "metadata": {},
   "outputs": [
    {
     "data": {
      "image/png": "[encoded data removed]",
      "text/plain": [
       "<Figure size 1008x504 with 2 Axes>"
      ]
     },
     "metadata": {
      "needs_background": "light"
     },
     "output_type": "display_data"
    }
   ],
   "source": [
    "#Plotting graphs for better unerstanding\n",
    "\n",
    "fig, ax = plt.subplots(1,2,figsize=(14,7))\n",
    "\n",
    "ax[0].set_ylim(0, 80)\n",
    "ax[1].set_ylim(0, 80)\n",
    "plt.xlabel(\"xlabel\",fontsize=15)\n",
    "plt.ylabel(\"ylabel\",fontsize=15)\n",
    "\n",
    "ax[1].yaxis.labelpad = 15\n",
    "ax[1].xaxis.labelpad = 25\n",
    "graph=sns.barplot(x=dataMale.columns[1:4].tolist(),y=dataMale.mean(),ax=ax[0])\n",
    "graph.set_title(\"Male participant mean scores\",fontsize=20,pad=15)\n",
    "for p in graph.patches:\n",
    "        graph.annotate('{:.2f}'.format(p.get_height()), (p.get_x()+0.25, p.get_height()+1))\n",
    "\n",
    "graph=sns.barplot(x=dataFemale.columns[1:4].tolist(),y=dataFemale.mean(),ax=ax[1])\n",
    "graph.set_title(\"Female participant mean scores\",fontsize=20,pad=15)\n",
    "graph.set(xlabel=None,ylabel=\"Mean\")\n",
    "for p in graph.patches:\n",
    "        graph.annotate('{:.2f}'.format(p.get_height()), (p.get_x()+0.25, p.get_height()+1))\n"
   ]
  },
  {
   "cell_type": "markdown",
   "id": "7ec2df1e",
   "metadata": {},
   "source": [
    "### <span style=\"color:green\">INSIGHT</span>\n",
    "### <span style=\"color:red\">• Females have better score in reading and writing where as males did better on maths score.</span>"
   ]
  },
  {
   "cell_type": "markdown",
   "id": "24bbad1f",
   "metadata": {},
   "source": [
    "### Test preparation"
   ]
  },
  {
   "cell_type": "code",
   "execution_count": 10,
   "id": "348d2240",
   "metadata": {},
   "outputs": [
    {
     "name": "stdout",
     "output_type": "stream",
     "text": [
      "Mean score values of participants who did'nt take course are:\n",
      " math score       63.789720\n",
      "reading score    66.417445\n",
      "writing score    64.457944\n",
      "dtype: float64 \n",
      "\n",
      "Mean score values of participants who took course are:\n",
      " math score       69.966480\n",
      "reading score    74.175978\n",
      "writing score    74.684358\n",
      "dtype: float64\n"
     ]
    }
   ],
   "source": [
    "#On basis on Test preparation course\n",
    "\n",
    "dataTestpreparation=data[[\"test preparation course\",\"math score\",\"reading score\",\"writing score\"]]\n",
    "\n",
    "dataTestnone=dataTestpreparation[dataTestpreparation[\"test preparation course\"]==\"none\"]\n",
    "dataTestcom=dataTestpreparation[dataTestpreparation[\"test preparation course\"]==\"completed\"]\n",
    "\n",
    "print(\"Mean score values of participants who did'nt take course are:\\n\",dataTestnone.mean(),\"\\n\")\n",
    "print(\"Mean score values of participants who took course are:\\n\",dataTestcom.mean())\n"
   ]
  },
  {
   "cell_type": "code",
   "execution_count": 11,
   "id": "bacaf1b9",
   "metadata": {},
   "outputs": [
    {
     "data": {
      "image/png": "[encoded data removed]",
      "text/plain": [
       "<Figure size 1008x504 with 2 Axes>"
      ]
     },
     "metadata": {
      "needs_background": "light"
     },
     "output_type": "display_data"
    }
   ],
   "source": [
    "#Plotting graphs for better understanding\n",
    "\n",
    "fig, ax = plt.subplots(1,2,figsize=(14,7))\n",
    "\n",
    "ax[0].set_ylim(0, 80)\n",
    "ax[1].set_ylim(0, 80)\n",
    "plt.xlabel(\"xlabel\",fontsize=15)\n",
    "plt.ylabel(\"ylabel\",fontsize=15)\n",
    "\n",
    "ax[1].yaxis.labelpad = 15\n",
    "ax[1].xaxis.labelpad = 25\n",
    "graph=sns.barplot(x=dataTestnone.columns[1:4].tolist(),y=dataTestnone.mean(),ax=ax[0])\n",
    "graph.set_title(\"Participants without course\",fontsize=20,pad=15)\n",
    "for p in graph.patches:\n",
    "        graph.annotate('{:.2f}'.format(p.get_height()), (p.get_x()+0.25, p.get_height()+1))\n",
    "\n",
    "graph=sns.barplot(x=dataTestcom.columns[1:4].tolist(),y=dataTestcom.mean(),ax=ax[1])\n",
    "graph.set_title(\"Participants with course\",fontsize=20,pad=15)\n",
    "graph.set(xlabel=None,ylabel=\"Mean\")\n",
    "for p in graph.patches:\n",
    "        graph.annotate('{:.2f}'.format(p.get_height()), (p.get_x()+0.25, p.get_height()+1))"
   ]
  },
  {
   "cell_type": "markdown",
   "id": "d88f4b0c",
   "metadata": {},
   "source": [
    "### <span style=\"color:green\">INSIGHT</span>\n",
    "### <span style=\"color:red\">• Paricipants who attended course have higher average score on all tests.</span>\n",
    "### <span style=\"color:red\">• This shows course is effective</span>"
   ]
  },
  {
   "cell_type": "markdown",
   "id": "4dec3f21",
   "metadata": {},
   "source": [
    "# 4. What do you think about the scoring variation for math, reading and writing based on\n",
    "##### ●Gender ●Test preparation course"
   ]
  },
  {
   "cell_type": "markdown",
   "id": "ab391d2a",
   "metadata": {},
   "source": [
    "### Gender"
   ]
  },
  {
   "cell_type": "code",
   "execution_count": 12,
   "id": "69691512",
   "metadata": {},
   "outputs": [
    {
     "name": "stdout",
     "output_type": "stream",
     "text": [
      "Standard deviation score values of MALE participants are:\n",
      " math score       14.556411\n",
      "reading score    14.149594\n",
      "writing score    14.227225\n",
      "dtype: float64 \n",
      "\n",
      "Standard deviation score values of FEMALE participants are:\n",
      " math score       16.029928\n",
      "reading score    14.411018\n",
      "writing score    14.844842\n",
      "dtype: float64\n"
     ]
    }
   ],
   "source": [
    "#On basis of Gender\n",
    "dataGender=data[[\"gender\",\"math score\",\"reading score\",\"writing score\"]]\n",
    "\n",
    "dataMale=dataGender[dataGender[\"gender\"]==\"male\"]\n",
    "dataFemale=dataGender[dataGender[\"gender\"]==\"female\"]\n",
    "\n",
    "print(\"Standard deviation score values of MALE participants are:\\n\",dataMale.std(),\"\\n\")\n",
    "print(\"Standard deviation score values of FEMALE participants are:\\n\",dataFemale.std())"
   ]
  },
  {
   "cell_type": "code",
   "execution_count": 13,
   "id": "afe411d0",
   "metadata": {},
   "outputs": [
    {
     "data": {
      "image/png": "[encoded data removed]",
      "text/plain": [
       "<Figure size 1008x504 with 2 Axes>"
      ]
     },
     "metadata": {
      "needs_background": "light"
     },
     "output_type": "display_data"
    }
   ],
   "source": [
    "#Plotting graphs for better understanding\n",
    "\n",
    "fig, ax = plt.subplots(1,2,figsize=(14,7))\n",
    "\n",
    "ax[0].set_ylim(10, 17)\n",
    "ax[1].set_ylim(10, 17)\n",
    "plt.xlabel(\"xlabel\",fontsize=15)\n",
    "plt.ylabel(\"ylabel\",fontsize=15)\n",
    "\n",
    "ax[1].yaxis.labelpad = 15\n",
    "ax[1].xaxis.labelpad = 25\n",
    "graph=sns.barplot(x=dataMale.columns[1:4].tolist(),y=dataMale.std(),ax=ax[0])\n",
    "graph.set_title(\"Male participant standard deviation\",fontsize=20,pad=15)\n",
    "for p in graph.patches:\n",
    "        graph.annotate('{:.2f}'.format(p.get_height()), (p.get_x()+0.25, p.get_height()+.25))\n",
    "\n",
    "graph=sns.barplot(x=dataFemale.columns[1:4].tolist(),y=dataFemale.std(),ax=ax[1])\n",
    "graph.set_title(\"Female participant standard deviation\",fontsize=20,pad=15)\n",
    "graph.set(xlabel=None,ylabel=\"Standard Deviation\")\n",
    "for p in graph.patches:\n",
    "        graph.annotate('{:.2f}'.format(p.get_height()), (p.get_x()+0.25, p.get_height()+.25))"
   ]
  },
  {
   "cell_type": "markdown",
   "id": "1337ce8f",
   "metadata": {},
   "source": [
    "### <span style=\"color:green\">INSIGHT</span>\n",
    "#### <span style=\"color:red\">• Both male and female have almost similar standard deviation for Reading and Writing</span> \n",
    "#### <span style=\"color:red\">• Math Score of females have highest deviation.</span>"
   ]
  },
  {
   "cell_type": "markdown",
   "id": "86b0a891",
   "metadata": {},
   "source": [
    "## Test Preparation"
   ]
  },
  {
   "cell_type": "code",
   "execution_count": 14,
   "id": "9402737f",
   "metadata": {},
   "outputs": [
    {
     "name": "stdout",
     "output_type": "stream",
     "text": [
      "Standard deviation of participants who did'nt take course are:\n",
      " math score       15.705689\n",
      "reading score    14.608896\n",
      "writing score    15.041667\n",
      "dtype: float64 \n",
      "\n",
      "Standard deviation of participants who took course are:\n",
      " math score       14.521847\n",
      "reading score    13.537572\n",
      "writing score    13.236412\n",
      "dtype: float64\n"
     ]
    }
   ],
   "source": [
    "#On basis on Test preparation course\n",
    "dataTestpreparation=data[[\"test preparation course\",\"math score\",\"reading score\",\"writing score\"]]\n",
    "\n",
    "dataTestnone=dataTestpreparation[dataTestpreparation[\"test preparation course\"]==\"none\"]\n",
    "dataTestcom=dataTestpreparation[dataTestpreparation[\"test preparation course\"]==\"completed\"]\n",
    "\n",
    "print(\"Standard deviation of participants who did'nt take course are:\\n\",dataTestnone.std(),\"\\n\")\n",
    "print(\"Standard deviation of participants who took course are:\\n\",dataTestcom.std())\n"
   ]
  },
  {
   "cell_type": "code",
   "execution_count": 15,
   "id": "f3ea6491",
   "metadata": {},
   "outputs": [
    {
     "data": {
      "image/png": "[encoded data removed]",
      "text/plain": [
       "<Figure size 1008x504 with 2 Axes>"
      ]
     },
     "metadata": {
      "needs_background": "light"
     },
     "output_type": "display_data"
    }
   ],
   "source": [
    "#Plotting graphs for better understanding\n",
    "\n",
    "fig, ax = plt.subplots(1,2,figsize=(14,7))\n",
    "\n",
    "ax[0].set_ylim(10, 17)\n",
    "ax[1].set_ylim(10, 17)\n",
    "plt.xlabel(\"xlabel\",fontsize=15)\n",
    "plt.ylabel(\"ylabel\",fontsize=15)\n",
    "\n",
    "ax[1].yaxis.labelpad = 15\n",
    "ax[1].xaxis.labelpad = 25\n",
    "graph=sns.barplot(x=dataTestnone.columns[1:4].tolist(),y=dataTestnone.std(),ax=ax[0])\n",
    "graph.set_title(\"Participants without course\",fontsize=20,pad=15)\n",
    "for p in graph.patches:\n",
    "        graph.annotate('{:.2f}'.format(p.get_height()), (p.get_x()+0.25, p.get_height()+.25))\n",
    "\n",
    "graph=sns.barplot(x=dataTestcom.columns[1:4].tolist(),y=dataTestcom.std(),ax=ax[1])\n",
    "graph.set_title(\"Participants with course\",fontsize=20,pad=15)\n",
    "graph.set(xlabel=None,ylabel=\"Standard Deviation\")\n",
    "for p in graph.patches:\n",
    "        graph.annotate('{:.2f}'.format(p.get_height()), (p.get_x()+0.25, p.get_height()+.25))"
   ]
  },
  {
   "cell_type": "markdown",
   "id": "20d5bf68",
   "metadata": {},
   "source": [
    "### <span style=\"color:green\">INSIGHT</span>\n",
    "#### <span style=\"color:red\">• Participants who did'nt do course shows a higher variation in scores as compared to participants who completed course</span>\n",
    "#### <span style=\"color:red\">• Within different tests, Maths shows more variation compared to others</span>"
   ]
  },
  {
   "cell_type": "markdown",
   "id": "ec704534",
   "metadata": {},
   "source": [
    "# 5. The management needs your help to give bonus points to the top 25% of students based on their maths score, so how will you help the management to achieve this."
   ]
  },
  {
   "cell_type": "code",
   "execution_count": 16,
   "id": "c7dcc9cb",
   "metadata": {},
   "outputs": [
    {
     "data": {
      "text/html": [
       "<div>\n",
       "<style scoped>\n",
       "    .dataframe tbody tr th:only-of-type {\n",
       "        vertical-align: middle;\n",
       "    }\n",
       "\n",
       "    .dataframe tbody tr th {\n",
       "        vertical-align: top;\n",
       "    }\n",
       "\n",
       "    .dataframe thead th {\n",
       "        text-align: right;\n",
       "    }\n",
       "</style>\n",
       "<table border=\"1\" class=\"dataframe\">\n",
       "  <thead>\n",
       "    <tr style=\"text-align: right;\">\n",
       "      <th></th>\n",
       "      <th>gender</th>\n",
       "      <th>race/ethnicity</th>\n",
       "      <th>parental level of education</th>\n",
       "      <th>lunch</th>\n",
       "      <th>test preparation course</th>\n",
       "      <th>math score</th>\n",
       "      <th>reading score</th>\n",
       "      <th>writing score</th>\n",
       "    </tr>\n",
       "  </thead>\n",
       "  <tbody>\n",
       "    <tr>\n",
       "      <th>999</th>\n",
       "      <td>male</td>\n",
       "      <td>group E</td>\n",
       "      <td>bachelor's degree</td>\n",
       "      <td>standard</td>\n",
       "      <td>completed</td>\n",
       "      <td>100</td>\n",
       "      <td>100</td>\n",
       "      <td>100</td>\n",
       "    </tr>\n",
       "    <tr>\n",
       "      <th>996</th>\n",
       "      <td>male</td>\n",
       "      <td>group A</td>\n",
       "      <td>some college</td>\n",
       "      <td>standard</td>\n",
       "      <td>completed</td>\n",
       "      <td>100</td>\n",
       "      <td>96</td>\n",
       "      <td>86</td>\n",
       "    </tr>\n",
       "    <tr>\n",
       "      <th>515</th>\n",
       "      <td>female</td>\n",
       "      <td>group E</td>\n",
       "      <td>some college</td>\n",
       "      <td>standard</td>\n",
       "      <td>none</td>\n",
       "      <td>100</td>\n",
       "      <td>92</td>\n",
       "      <td>97</td>\n",
       "    </tr>\n",
       "    <tr>\n",
       "      <th>517</th>\n",
       "      <td>female</td>\n",
       "      <td>group E</td>\n",
       "      <td>associate's degree</td>\n",
       "      <td>standard</td>\n",
       "      <td>none</td>\n",
       "      <td>100</td>\n",
       "      <td>100</td>\n",
       "      <td>100</td>\n",
       "    </tr>\n",
       "    <tr>\n",
       "      <th>516</th>\n",
       "      <td>female</td>\n",
       "      <td>group E</td>\n",
       "      <td>bachelor's degree</td>\n",
       "      <td>standard</td>\n",
       "      <td>none</td>\n",
       "      <td>100</td>\n",
       "      <td>100</td>\n",
       "      <td>100</td>\n",
       "    </tr>\n",
       "    <tr>\n",
       "      <th>...</th>\n",
       "      <td>...</td>\n",
       "      <td>...</td>\n",
       "      <td>...</td>\n",
       "      <td>...</td>\n",
       "      <td>...</td>\n",
       "      <td>...</td>\n",
       "      <td>...</td>\n",
       "      <td>...</td>\n",
       "    </tr>\n",
       "    <tr>\n",
       "      <th>2</th>\n",
       "      <td>female</td>\n",
       "      <td>group B</td>\n",
       "      <td>some high school</td>\n",
       "      <td>free/reduced</td>\n",
       "      <td>none</td>\n",
       "      <td>18</td>\n",
       "      <td>32</td>\n",
       "      <td>28</td>\n",
       "    </tr>\n",
       "    <tr>\n",
       "      <th>51</th>\n",
       "      <td>female</td>\n",
       "      <td>group C</td>\n",
       "      <td>some high school</td>\n",
       "      <td>free/reduced</td>\n",
       "      <td>none</td>\n",
       "      <td>13</td>\n",
       "      <td>41</td>\n",
       "      <td>51</td>\n",
       "    </tr>\n",
       "    <tr>\n",
       "      <th>3</th>\n",
       "      <td>female</td>\n",
       "      <td>group B</td>\n",
       "      <td>some college</td>\n",
       "      <td>standard</td>\n",
       "      <td>none</td>\n",
       "      <td>11</td>\n",
       "      <td>38</td>\n",
       "      <td>32</td>\n",
       "    </tr>\n",
       "    <tr>\n",
       "      <th>1</th>\n",
       "      <td>female</td>\n",
       "      <td>group B</td>\n",
       "      <td>high school</td>\n",
       "      <td>free/reduced</td>\n",
       "      <td>none</td>\n",
       "      <td>8</td>\n",
       "      <td>24</td>\n",
       "      <td>23</td>\n",
       "    </tr>\n",
       "    <tr>\n",
       "      <th>0</th>\n",
       "      <td>female</td>\n",
       "      <td>group C</td>\n",
       "      <td>some high school</td>\n",
       "      <td>free/reduced</td>\n",
       "      <td>none</td>\n",
       "      <td>0</td>\n",
       "      <td>17</td>\n",
       "      <td>10</td>\n",
       "    </tr>\n",
       "  </tbody>\n",
       "</table>\n",
       "<p>1000 rows × 8 columns</p>\n",
       "</div>"
      ],
      "text/plain": [
       "     gender race/ethnicity parental level of education         lunch  \\\n",
       "999    male        group E           bachelor's degree      standard   \n",
       "996    male        group A                some college      standard   \n",
       "515  female        group E                some college      standard   \n",
       "517  female        group E          associate's degree      standard   \n",
       "516  female        group E           bachelor's degree      standard   \n",
       "..      ...            ...                         ...           ...   \n",
       "2    female        group B            some high school  free/reduced   \n",
       "51   female        group C            some high school  free/reduced   \n",
       "3    female        group B                some college      standard   \n",
       "1    female        group B                 high school  free/reduced   \n",
       "0    female        group C            some high school  free/reduced   \n",
       "\n",
       "    test preparation course  math score  reading score  writing score  \n",
       "999               completed         100            100            100  \n",
       "996               completed         100             96             86  \n",
       "515                    none         100             92             97  \n",
       "517                    none         100            100            100  \n",
       "516                    none         100            100            100  \n",
       "..                      ...         ...            ...            ...  \n",
       "2                      none          18             32             28  \n",
       "51                     none          13             41             51  \n",
       "3                      none          11             38             32  \n",
       "1                      none           8             24             23  \n",
       "0                      none           0             17             10  \n",
       "\n",
       "[1000 rows x 8 columns]"
      ]
     },
     "execution_count": 16,
     "metadata": {},
     "output_type": "execute_result"
    }
   ],
   "source": [
    "#Sorting data in descending order of maths score\n",
    "\n",
    "dataSortedByMaths=data.sort_values(by=['math score'],ascending=False)\n",
    "dataSortedByMaths"
   ]
  },
  {
   "cell_type": "code",
   "execution_count": 17,
   "id": "45b668c6",
   "metadata": {},
   "outputs": [
    {
     "data": {
      "text/html": [
       "<div>\n",
       "<style scoped>\n",
       "    .dataframe tbody tr th:only-of-type {\n",
       "        vertical-align: middle;\n",
       "    }\n",
       "\n",
       "    .dataframe tbody tr th {\n",
       "        vertical-align: top;\n",
       "    }\n",
       "\n",
       "    .dataframe thead th {\n",
       "        text-align: right;\n",
       "    }\n",
       "</style>\n",
       "<table border=\"1\" class=\"dataframe\">\n",
       "  <thead>\n",
       "    <tr style=\"text-align: right;\">\n",
       "      <th></th>\n",
       "      <th>gender</th>\n",
       "      <th>race/ethnicity</th>\n",
       "      <th>parental level of education</th>\n",
       "      <th>lunch</th>\n",
       "      <th>test preparation course</th>\n",
       "      <th>math score</th>\n",
       "      <th>reading score</th>\n",
       "      <th>writing score</th>\n",
       "    </tr>\n",
       "  </thead>\n",
       "  <tbody>\n",
       "    <tr>\n",
       "      <th>999</th>\n",
       "      <td>male</td>\n",
       "      <td>group E</td>\n",
       "      <td>bachelor's degree</td>\n",
       "      <td>standard</td>\n",
       "      <td>completed</td>\n",
       "      <td>100</td>\n",
       "      <td>100</td>\n",
       "      <td>100</td>\n",
       "    </tr>\n",
       "    <tr>\n",
       "      <th>996</th>\n",
       "      <td>male</td>\n",
       "      <td>group A</td>\n",
       "      <td>some college</td>\n",
       "      <td>standard</td>\n",
       "      <td>completed</td>\n",
       "      <td>100</td>\n",
       "      <td>96</td>\n",
       "      <td>86</td>\n",
       "    </tr>\n",
       "    <tr>\n",
       "      <th>515</th>\n",
       "      <td>female</td>\n",
       "      <td>group E</td>\n",
       "      <td>some college</td>\n",
       "      <td>standard</td>\n",
       "      <td>none</td>\n",
       "      <td>100</td>\n",
       "      <td>92</td>\n",
       "      <td>97</td>\n",
       "    </tr>\n",
       "    <tr>\n",
       "      <th>517</th>\n",
       "      <td>female</td>\n",
       "      <td>group E</td>\n",
       "      <td>associate's degree</td>\n",
       "      <td>standard</td>\n",
       "      <td>none</td>\n",
       "      <td>100</td>\n",
       "      <td>100</td>\n",
       "      <td>100</td>\n",
       "    </tr>\n",
       "    <tr>\n",
       "      <th>516</th>\n",
       "      <td>female</td>\n",
       "      <td>group E</td>\n",
       "      <td>bachelor's degree</td>\n",
       "      <td>standard</td>\n",
       "      <td>none</td>\n",
       "      <td>100</td>\n",
       "      <td>100</td>\n",
       "      <td>100</td>\n",
       "    </tr>\n",
       "    <tr>\n",
       "      <th>...</th>\n",
       "      <td>...</td>\n",
       "      <td>...</td>\n",
       "      <td>...</td>\n",
       "      <td>...</td>\n",
       "      <td>...</td>\n",
       "      <td>...</td>\n",
       "      <td>...</td>\n",
       "      <td>...</td>\n",
       "    </tr>\n",
       "    <tr>\n",
       "      <th>856</th>\n",
       "      <td>male</td>\n",
       "      <td>group E</td>\n",
       "      <td>some high school</td>\n",
       "      <td>standard</td>\n",
       "      <td>completed</td>\n",
       "      <td>77</td>\n",
       "      <td>76</td>\n",
       "      <td>77</td>\n",
       "    </tr>\n",
       "    <tr>\n",
       "      <th>855</th>\n",
       "      <td>male</td>\n",
       "      <td>group E</td>\n",
       "      <td>associate's degree</td>\n",
       "      <td>free/reduced</td>\n",
       "      <td>completed</td>\n",
       "      <td>77</td>\n",
       "      <td>69</td>\n",
       "      <td>68</td>\n",
       "    </tr>\n",
       "    <tr>\n",
       "      <th>854</th>\n",
       "      <td>male</td>\n",
       "      <td>group D</td>\n",
       "      <td>some high school</td>\n",
       "      <td>standard</td>\n",
       "      <td>completed</td>\n",
       "      <td>77</td>\n",
       "      <td>68</td>\n",
       "      <td>69</td>\n",
       "    </tr>\n",
       "    <tr>\n",
       "      <th>853</th>\n",
       "      <td>male</td>\n",
       "      <td>group D</td>\n",
       "      <td>associate's degree</td>\n",
       "      <td>free/reduced</td>\n",
       "      <td>none</td>\n",
       "      <td>77</td>\n",
       "      <td>78</td>\n",
       "      <td>73</td>\n",
       "    </tr>\n",
       "    <tr>\n",
       "      <th>852</th>\n",
       "      <td>male</td>\n",
       "      <td>group D</td>\n",
       "      <td>some college</td>\n",
       "      <td>free/reduced</td>\n",
       "      <td>none</td>\n",
       "      <td>77</td>\n",
       "      <td>62</td>\n",
       "      <td>64</td>\n",
       "    </tr>\n",
       "  </tbody>\n",
       "</table>\n",
       "<p>250 rows × 8 columns</p>\n",
       "</div>"
      ],
      "text/plain": [
       "     gender race/ethnicity parental level of education         lunch  \\\n",
       "999    male        group E           bachelor's degree      standard   \n",
       "996    male        group A                some college      standard   \n",
       "515  female        group E                some college      standard   \n",
       "517  female        group E          associate's degree      standard   \n",
       "516  female        group E           bachelor's degree      standard   \n",
       "..      ...            ...                         ...           ...   \n",
       "856    male        group E            some high school      standard   \n",
       "855    male        group E          associate's degree  free/reduced   \n",
       "854    male        group D            some high school      standard   \n",
       "853    male        group D          associate's degree  free/reduced   \n",
       "852    male        group D                some college  free/reduced   \n",
       "\n",
       "    test preparation course  math score  reading score  writing score  \n",
       "999               completed         100            100            100  \n",
       "996               completed         100             96             86  \n",
       "515                    none         100             92             97  \n",
       "517                    none         100            100            100  \n",
       "516                    none         100            100            100  \n",
       "..                      ...         ...            ...            ...  \n",
       "856               completed          77             76             77  \n",
       "855               completed          77             69             68  \n",
       "854               completed          77             68             69  \n",
       "853                    none          77             78             73  \n",
       "852                    none          77             62             64  \n",
       "\n",
       "[250 rows x 8 columns]"
      ]
     },
     "execution_count": 17,
     "metadata": {},
     "output_type": "execute_result"
    }
   ],
   "source": [
    "#Finding Top 25% on basis of maths score-And note the score-ie 77\n",
    "\n",
    "dataSortedByMaths.head(int(len(dataSortedByMaths)*(25/100)))"
   ]
  },
  {
   "cell_type": "markdown",
   "id": "1d27afe4",
   "metadata": {},
   "source": [
    "### <span style=\"color:green\">25% of 1000 member data is 250. The maths score by top 250th student is 77, Management will have to give bonus points to all scored 77 and above, ie 255 students, five more than desired.</span>"
   ]
  },
  {
   "cell_type": "code",
   "execution_count": 18,
   "id": "3474eec9",
   "metadata": {},
   "outputs": [
    {
     "data": {
      "text/html": [
       "<div>\n",
       "<style scoped>\n",
       "    .dataframe tbody tr th:only-of-type {\n",
       "        vertical-align: middle;\n",
       "    }\n",
       "\n",
       "    .dataframe tbody tr th {\n",
       "        vertical-align: top;\n",
       "    }\n",
       "\n",
       "    .dataframe thead th {\n",
       "        text-align: right;\n",
       "    }\n",
       "</style>\n",
       "<table border=\"1\" class=\"dataframe\">\n",
       "  <thead>\n",
       "    <tr style=\"text-align: right;\">\n",
       "      <th></th>\n",
       "      <th>gender</th>\n",
       "      <th>race/ethnicity</th>\n",
       "      <th>parental level of education</th>\n",
       "      <th>lunch</th>\n",
       "      <th>test preparation course</th>\n",
       "      <th>math score</th>\n",
       "      <th>reading score</th>\n",
       "      <th>writing score</th>\n",
       "    </tr>\n",
       "  </thead>\n",
       "  <tbody>\n",
       "    <tr>\n",
       "      <th>999</th>\n",
       "      <td>male</td>\n",
       "      <td>group E</td>\n",
       "      <td>bachelor's degree</td>\n",
       "      <td>standard</td>\n",
       "      <td>completed</td>\n",
       "      <td>100</td>\n",
       "      <td>100</td>\n",
       "      <td>100</td>\n",
       "    </tr>\n",
       "    <tr>\n",
       "      <th>996</th>\n",
       "      <td>male</td>\n",
       "      <td>group A</td>\n",
       "      <td>some college</td>\n",
       "      <td>standard</td>\n",
       "      <td>completed</td>\n",
       "      <td>100</td>\n",
       "      <td>96</td>\n",
       "      <td>86</td>\n",
       "    </tr>\n",
       "    <tr>\n",
       "      <th>515</th>\n",
       "      <td>female</td>\n",
       "      <td>group E</td>\n",
       "      <td>some college</td>\n",
       "      <td>standard</td>\n",
       "      <td>none</td>\n",
       "      <td>100</td>\n",
       "      <td>92</td>\n",
       "      <td>97</td>\n",
       "    </tr>\n",
       "    <tr>\n",
       "      <th>517</th>\n",
       "      <td>female</td>\n",
       "      <td>group E</td>\n",
       "      <td>associate's degree</td>\n",
       "      <td>standard</td>\n",
       "      <td>none</td>\n",
       "      <td>100</td>\n",
       "      <td>100</td>\n",
       "      <td>100</td>\n",
       "    </tr>\n",
       "    <tr>\n",
       "      <th>516</th>\n",
       "      <td>female</td>\n",
       "      <td>group E</td>\n",
       "      <td>bachelor's degree</td>\n",
       "      <td>standard</td>\n",
       "      <td>none</td>\n",
       "      <td>100</td>\n",
       "      <td>100</td>\n",
       "      <td>100</td>\n",
       "    </tr>\n",
       "    <tr>\n",
       "      <th>...</th>\n",
       "      <td>...</td>\n",
       "      <td>...</td>\n",
       "      <td>...</td>\n",
       "      <td>...</td>\n",
       "      <td>...</td>\n",
       "      <td>...</td>\n",
       "      <td>...</td>\n",
       "      <td>...</td>\n",
       "    </tr>\n",
       "    <tr>\n",
       "      <th>851</th>\n",
       "      <td>male</td>\n",
       "      <td>group D</td>\n",
       "      <td>some college</td>\n",
       "      <td>standard</td>\n",
       "      <td>completed</td>\n",
       "      <td>77</td>\n",
       "      <td>62</td>\n",
       "      <td>62</td>\n",
       "    </tr>\n",
       "    <tr>\n",
       "      <th>849</th>\n",
       "      <td>male</td>\n",
       "      <td>group A</td>\n",
       "      <td>bachelor's degree</td>\n",
       "      <td>standard</td>\n",
       "      <td>none</td>\n",
       "      <td>77</td>\n",
       "      <td>67</td>\n",
       "      <td>68</td>\n",
       "    </tr>\n",
       "    <tr>\n",
       "      <th>850</th>\n",
       "      <td>male</td>\n",
       "      <td>group C</td>\n",
       "      <td>associate's degree</td>\n",
       "      <td>free/reduced</td>\n",
       "      <td>none</td>\n",
       "      <td>77</td>\n",
       "      <td>67</td>\n",
       "      <td>64</td>\n",
       "    </tr>\n",
       "    <tr>\n",
       "      <th>421</th>\n",
       "      <td>female</td>\n",
       "      <td>group C</td>\n",
       "      <td>some college</td>\n",
       "      <td>free/reduced</td>\n",
       "      <td>none</td>\n",
       "      <td>77</td>\n",
       "      <td>90</td>\n",
       "      <td>91</td>\n",
       "    </tr>\n",
       "    <tr>\n",
       "      <th>414</th>\n",
       "      <td>female</td>\n",
       "      <td>group A</td>\n",
       "      <td>high school</td>\n",
       "      <td>free/reduced</td>\n",
       "      <td>completed</td>\n",
       "      <td>77</td>\n",
       "      <td>88</td>\n",
       "      <td>85</td>\n",
       "    </tr>\n",
       "  </tbody>\n",
       "</table>\n",
       "<p>255 rows × 8 columns</p>\n",
       "</div>"
      ],
      "text/plain": [
       "     gender race/ethnicity parental level of education         lunch  \\\n",
       "999    male        group E           bachelor's degree      standard   \n",
       "996    male        group A                some college      standard   \n",
       "515  female        group E                some college      standard   \n",
       "517  female        group E          associate's degree      standard   \n",
       "516  female        group E           bachelor's degree      standard   \n",
       "..      ...            ...                         ...           ...   \n",
       "851    male        group D                some college      standard   \n",
       "849    male        group A           bachelor's degree      standard   \n",
       "850    male        group C          associate's degree  free/reduced   \n",
       "421  female        group C                some college  free/reduced   \n",
       "414  female        group A                 high school  free/reduced   \n",
       "\n",
       "    test preparation course  math score  reading score  writing score  \n",
       "999               completed         100            100            100  \n",
       "996               completed         100             96             86  \n",
       "515                    none         100             92             97  \n",
       "517                    none         100            100            100  \n",
       "516                    none         100            100            100  \n",
       "..                      ...         ...            ...            ...  \n",
       "851               completed          77             62             62  \n",
       "849                    none          77             67             68  \n",
       "850                    none          77             67             64  \n",
       "421                    none          77             90             91  \n",
       "414               completed          77             88             85  \n",
       "\n",
       "[255 rows x 8 columns]"
      ]
     },
     "execution_count": 18,
     "metadata": {},
     "output_type": "execute_result"
    }
   ],
   "source": [
    "dataSortedByMaths[dataSortedByMaths[\"math score\"]>=77]"
   ]
  },
  {
   "cell_type": "code",
   "execution_count": null,
   "id": "8545a4db",
   "metadata": {},
   "outputs": [],
   "source": []
  }
 ],
 "metadata": {
  "kernelspec": {
   "display_name": "Python 3",
   "language": "python",
   "name": "python3"
  },
  "language_info": {
   "codemirror_mode": {
    "name": "ipython",
    "version": 3
   },
   "file_extension": ".py",
   "mimetype": "text/x-python",
   "name": "python",
   "nbconvert_exporter": "python",
   "pygments_lexer": "ipython3",
   "version": "3.8.8"
  }
 },
 "nbformat": 4,
 "nbformat_minor": 5
}
